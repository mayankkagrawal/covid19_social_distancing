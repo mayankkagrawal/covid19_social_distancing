{
 "cells": [
  {
   "cell_type": "code",
   "execution_count": 1,
   "metadata": {},
   "outputs": [],
   "source": [
    "import cv2\n",
    "import math\n",
    "import smtplib"
   ]
  },
  {
   "cell_type": "code",
   "execution_count": 2,
   "metadata": {},
   "outputs": [],
   "source": [
    "body_model=cv2.CascadeClassifier('haarcascade_fullbody.xml')"
   ]
  },
  {
   "cell_type": "code",
   "execution_count": 3,
   "metadata": {},
   "outputs": [],
   "source": [
    "cap=cv2.VideoCapture('aa.mp4')"
   ]
  },
  {
   "cell_type": "code",
   "execution_count": 4,
   "metadata": {},
   "outputs": [
    {
     "name": "stdout",
     "output_type": "stream",
     "text": [
      "login success\n",
      "email has sent to ma.agrawal123@gmail.com\n",
      "login success\n",
      "email has sent to ma.agrawal123@gmail.com\n",
      "login success\n",
      "email has sent to ma.agrawal123@gmail.com\n",
      "login success\n",
      "email has sent to ma.agrawal123@gmail.com\n",
      "login success\n",
      "email has sent to ma.agrawal123@gmail.com\n",
      "login success\n",
      "email has sent to ma.agrawal123@gmail.com\n",
      "login success\n",
      "email has sent to ma.agrawal123@gmail.com\n"
     ]
    }
   ],
   "source": [
    "while True:\n",
    "    status,photo=cap.read()\n",
    "    if True:\n",
    "        faces=body_model.detectMultiScale(photo)\n",
    "        count=len(faces)\n",
    "        if len(faces)!=0:\n",
    "            for(x1,y1,x2,y2) in faces:\n",
    "                cv2.putText(photo,\"face={}\".format(str(count)),(0,100),cv2.FONT_HERSHEY_SIMPLEX,2,(255,255,100),3)\n",
    "                i=len(faces)\n",
    "                pic=cv2.rectangle(photo,(x1,y1),(x2,y2),[0,127,255],3)\n",
    "                x1=faces[i-1][0]\n",
    "                y1=faces[i-1][1]\n",
    "                x2=faces[i-1][2]+x1\n",
    "                y2=faces[i-1][3]+y1\n",
    "                a=int((x1+x2)/2)\n",
    "                b=int((y1+y2)/2)\n",
    "                if i>=2:\n",
    "                    x3=faces[i-2][0]\n",
    "                    y3=faces[i-2][1]\n",
    "                    x4=faces[i-2][2]+x3\n",
    "                    y4=faces[i-2][3]+y3\n",
    "                    c=int((x3+x4)/2)\n",
    "                    d=int((y3+y4)/2)\n",
    "                    a=a+int((x2-x1)/2)\n",
    "                    b=b+int((y2-y1)/2)\n",
    "                    c=c+int((x4-x3)/2)\n",
    "                    d=d+int((y4-y3)/2)\n",
    "                    dist=math.sqrt((c-a)**2 + (d-b)**2)\n",
    "                    dist1=dist/30.48\n",
    "                    photo=cv2.line(photo,(a,b),(c,d),(0,255,255),3)\n",
    "                    cv2.putText(photo,\"face={}\".format(str(count)),(0,10),cv2.FONT_HERSHEY_SIMPLEX,2,(255,255,100),1)\n",
    "                    cv2.putText(photo,\"dist={}\".format(dist1),(100,200),cv2.FONT_HERSHEY_SIMPLEX,1,(255,255,0),1)\n",
    "                    photo=cv2.rectangle(photo,(x1,y1),(x2,y2),[0,127,255],3)\n",
    "                    i=i-1\n",
    "                    cv2.imshow('h1',photo)\n",
    "                    if dist1>=6:\n",
    "                        sender_email='ma.agrawal123@gmail.com'\n",
    "                        rec_email='ma.agrawal123@gmail.com'\n",
    "                        password='XXXXXXXX'\n",
    "                        message= 'total bodies'+str(count)+'and distance is'+str(dist1)\n",
    "                        s=smtplib.SMTP('smtp.gmail.com',587)\n",
    "                        s.starttls()\n",
    "                        s.login('ma.agrawal123@gmail.com','msrnabebsxbqfdpp')\n",
    "                        print(\"login success\")\n",
    "                        s.sendmail('ma.agrawal123@gmail.com','ma.agrawal123@gmail.com',message)\n",
    "                        print('email has sent to',rec_email)\n",
    "                        s.quit()\n",
    "    if cv2.waitKey(1)==13:\n",
    "        break\n",
    "cv2.destroyAllWindows()\n",
    "cap.release()\n",
    "    "
   ]
  },
  {
   "cell_type": "code",
   "execution_count": null,
   "metadata": {},
   "outputs": [],
   "source": []
  },
  {
   "cell_type": "code",
   "execution_count": null,
   "metadata": {},
   "outputs": [],
   "source": []
  }
 ],
 "metadata": {
  "kernelspec": {
   "display_name": "Python 3",
   "language": "python",
   "name": "python3"
  },
  "language_info": {
   "codemirror_mode": {
    "name": "ipython",
    "version": 3
   },
   "file_extension": ".py",
   "mimetype": "text/x-python",
   "name": "python",
   "nbconvert_exporter": "python",
   "pygments_lexer": "ipython3",
   "version": "3.7.0"
  }
 },
 "nbformat": 4,
 "nbformat_minor": 4
}
